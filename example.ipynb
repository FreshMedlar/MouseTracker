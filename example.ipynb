{
 "cells": [
  {
   "cell_type": "code",
   "execution_count": 1,
   "metadata": {},
   "outputs": [],
   "source": [
    "import os, glob\n",
    "import csv\n",
    "import torch\n",
    "import torch.nn as nn\n",
    "import pandas as pd\n",
    "import matplotlib.pyplot as plt\n",
    "import seaborn as sns\n",
    "from tqdm import trange\n",
    "import plotter\n",
    "sns.set()"
   ]
  },
  {
   "cell_type": "code",
   "execution_count": 2,
   "metadata": {},
   "outputs": [],
   "source": [
    "class MyRnn(nn.Module):\n",
    "  def __init__(self, in_d=2, out_d=2, hidden_d=4, num_hidden=1):\n",
    "    super(MyRnn, self).__init__()\n",
    "    self.rnn = nn.RNN(input_size=in_d, hidden_size=hidden_d, num_layers=num_hidden)\n",
    "    self.fc = nn.Linear(hidden_d, out_d)\n",
    "\n",
    "  def forward(self, x, h0):\n",
    "    r, h = self.rnn(x, h0)\n",
    "    y = self.fc(r)  # no activation on the output\n",
    "    return y, h"
   ]
  },
  {
   "cell_type": "code",
   "execution_count": 3,
   "metadata": {},
   "outputs": [],
   "source": [
    "s1 = torch.tensor([[4, 15], [4, 14], [4, 13], [4, 12], [4, 11], [4, 10], [4, 9], [4, 8], [4,7], [4, 6], [4, 5], [4, 4], [4, 3], [4, 2]], dtype=torch.float)[:, None, :] \n",
    "s2 = torch.tensor([[4, 15], [5,15],[6,15],[7,15],[8,15],[9,15],[10,15],[11, 15],[12, 15],[12,14],[12,13],[12,12],[12,11],[12,10],[12,9],[12,8],[12,7],[12,6],[12,5]],dtype=torch.float)[:, None, :]\n",
    "# s1 and s2 have 3 dimension"
   ]
  },
  {
   "cell_type": "code",
   "execution_count": 4,
   "metadata": {},
   "outputs": [
    {
     "name": "stdout",
     "output_type": "stream",
     "text": [
      "torch.Size([33, 1, 2])\n",
      "tensor([[ 7.5152, 10.5758]])\n",
      "tensor([[3.6922, 4.1761]])\n"
     ]
    }
   ],
   "source": [
    "x = torch.cat((s1,s2),dim=0)\n",
    "print(x.shape)\n",
    "mu = x.mean(dim=0)\n",
    "print(mu)\n",
    "sig=x.std(dim=0)\n",
    "print(sig)\n",
    "sequences = [(s1-mu)/sig, (s2-mu)/sig]  # pythonic list to hold sequences of un-even length"
   ]
  },
  {
   "cell_type": "code",
   "execution_count": 5,
   "metadata": {},
   "outputs": [
    {
     "name": "stderr",
     "output_type": "stream",
     "text": [
      "100%|██████████| 1000/1000 [00:01<00:00, 673.15it/s]\n"
     ]
    },
    {
     "data": {
      "image/png": "[encoded data removed]",
      "text/plain": [
       "<Figure size 640x480 with 1 Axes>"
      ]
     },
     "metadata": {},
     "output_type": "display_data"
    }
   ],
   "source": [
    "in_d = s1.shape[-1]\n",
    "out_d = in_d\n",
    "hidden_d = 8\n",
    "num_hidden = 1\n",
    "rnn = MyRnn(in_d, out_d, hidden_d, num_hidden)\n",
    "loss = []\n",
    "criterion = nn.MSELoss()\n",
    "opt = torch.optim.SGD(rnn.parameters(), lr=0.01)\n",
    "n_epochs = 1000\n",
    "for e in trange(n_epochs):\n",
    "  for s in sequences:\n",
    "    pred, _ = rnn(s[:-1,...], torch.zeros(num_hidden, 1, hidden_d, dtype=torch.float))  # predict next step, init hidden state to zero at the begining of the sequence\n",
    "    err = criterion(pred, s[1:, ...])  # predict next step for each step\n",
    "    opt.zero_grad()\n",
    "    err.backward()\n",
    "    opt.step()\n",
    "    loss.append(err.item())\n",
    "plt.plot(loss)\n",
    "plt.ylabel('Loss')\n",
    "plt.xlabel('iteration')\n",
    "plt.show()"
   ]
  },
  {
   "cell_type": "code",
   "execution_count": 6,
   "metadata": {},
   "outputs": [
    {
     "name": "stdout",
     "output_type": "stream",
     "text": [
      "seq 0, prev = tensor([[ 4., 11.]])  -> predicted 5th step = tensor([[ 3.9104, 10.2964]]), actual step = tensor([[ 4., 10.]])\n",
      "\t\tpredicted step 6 (prev = tensor([[[ 4., 10.]]])) = tensor([[3.7814, 9.0633]]), actual step = tensor([[4., 9.]])\n",
      "\t\tpredicted step 7 (prev = tensor([[[4., 9.]]])) = tensor([[3.7278, 7.8464]]), actual step = tensor([[4., 8.]])\n",
      "\t\tpredicted step 8 (prev = tensor([[[4., 8.]]])) = tensor([[3.7418, 6.6876]]), actual step = tensor([[4., 7.]])\n",
      "\t\tpredicted step 9 (prev = tensor([[[4., 7.]]])) = tensor([[3.8052, 5.6208]]), actual step = tensor([[4., 6.]])\n",
      "\t\tpredicted step 10 (prev = tensor([[[4., 6.]]])) = tensor([[3.9011, 4.6699]]), actual step = tensor([[4., 5.]])\n",
      "\t\tpredicted step 11 (prev = tensor([[[4., 5.]]])) = tensor([[4.0151, 3.8454]]), actual step = tensor([[4., 4.]])\n",
      "\t\tpredicted step 12 (prev = tensor([[[4., 4.]]])) = tensor([[4.1371, 3.1451]]), actual step = tensor([[4., 3.]])\n",
      "\t\tpredicted step 13 (prev = tensor([[[4., 3.]]])) = tensor([[4.2609, 2.5580]]), actual step = tensor([[4., 2.]])\n",
      "seq 1, prev = tensor([[ 8., 15.]])  -> predicted 5th step = tensor([[ 8.9480, 14.9781]]), actual step = tensor([[ 9., 15.]])\n",
      "\t\tpredicted step 6 (prev = tensor([[[ 9., 15.]]])) = tensor([[ 9.9510, 14.9273]]), actual step = tensor([[10., 15.]])\n",
      "\t\tpredicted step 7 (prev = tensor([[[10., 15.]]])) = tensor([[10.7661, 14.7418]]), actual step = tensor([[11., 15.]])\n",
      "\t\tpredicted step 8 (prev = tensor([[[11., 15.]]])) = tensor([[11.4369, 14.4499]]), actual step = tensor([[12., 15.]])\n",
      "\t\tpredicted step 9 (prev = tensor([[[11., 14.]]])) = tensor([[11.4887, 13.7602]]), actual step = tensor([[12., 14.]])\n",
      "\t\tpredicted step 10 (prev = tensor([[[11., 14.]]])) = tensor([[11.5375, 13.5236]]), actual step = tensor([[12., 13.]])\n",
      "\t\tpredicted step 11 (prev = tensor([[[12., 14.]]])) = tensor([[12.1433, 13.0032]]), actual step = tensor([[12., 12.]])\n",
      "\t\tpredicted step 12 (prev = tensor([[[12., 13.]]])) = tensor([[12.1733, 12.2380]]), actual step = tensor([[12., 11.]])\n",
      "\t\tpredicted step 13 (prev = tensor([[[12., 12.]]])) = tensor([[12.2735, 11.1723]]), actual step = tensor([[12., 10.]])\n",
      "\t\tpredicted step 14 (prev = tensor([[[12., 11.]]])) = tensor([[12.2973, 10.0499]]), actual step = tensor([[12.,  9.]])\n",
      "\t\tpredicted step 15 (prev = tensor([[[12., 10.]]])) = tensor([[12.2842,  8.9304]]), actual step = tensor([[12.,  8.]])\n",
      "\t\tpredicted step 16 (prev = tensor([[[12.,  9.]]])) = tensor([[12.2050,  7.8675]]), actual step = tensor([[12.,  7.]])\n",
      "\t\tpredicted step 17 (prev = tensor([[[12.,  8.]]])) = tensor([[12.0682,  6.8900]]), actual step = tensor([[12.,  6.]])\n",
      "\t\tpredicted step 18 (prev = tensor([[[12.,  7.]]])) = tensor([[11.8754,  6.0147]]), actual step = tensor([[12.,  5.]])\n",
      "\n",
      "\n"
     ]
    }
   ],
   "source": [
    "rnn.eval()\n",
    "with torch.no_grad():\n",
    "  k = 5 \n",
    "  for si, s in enumerate(sequences):\n",
    "    pred, h = rnn(s[:k,...], torch.zeros(num_hidden, 1, hidden_d, dtype=torch.float))  # given first k steps predict the next one\n",
    "    print('seq {}, prev = {}  -> predicted {}th step = {}, actual step = {}'.format(si, s[k-1,...]*sig+mu, k, pred[-1, ...]*sig + mu, s[k, ...]*sig+mu))\n",
    "    prev = (torch.round(pred[-1:, ...]*sig + mu) - mu) / sig  # round the prediction, attmepting to avoid accumulation of error\n",
    "    # continue to predict \n",
    "    for j in  range(k+1, s.shape[0]):\n",
    "      pred, h = rnn(prev, h)\n",
    "      print('\\t\\tpredicted step {} (prev = {}) = {}, actual step = {}'.format(j, prev*sig+mu, pred[-1,...]*sig+mu, s[j, ...]*sig + mu))\n",
    "      prev = (torch.round(pred*sig + mu) - mu) / sig\n",
    "  print('\\n')"
   ]
  }
 ],
 "metadata": {
  "kernelspec": {
   "display_name": "Python 3",
   "language": "python",
   "name": "python3"
  },
  "language_info": {
   "codemirror_mode": {
    "name": "ipython",
    "version": 3
   },
   "file_extension": ".py",
   "mimetype": "text/x-python",
   "name": "python",
   "nbconvert_exporter": "python",
   "pygments_lexer": "ipython3",
   "version": "3.10.6"
  },
  "orig_nbformat": 4
 },
 "nbformat": 4,
 "nbformat_minor": 2
}
