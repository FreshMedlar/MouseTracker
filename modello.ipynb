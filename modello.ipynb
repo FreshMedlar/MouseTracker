{
 "cells": [
  {
   "cell_type": "code",
   "execution_count": 21,
   "metadata": {},
   "outputs": [],
   "source": [
    "import os, glob\n",
    "import csv\n",
    "import torch\n",
    "import torch.nn as nn\n",
    "import pandas as pd\n",
    "import matplotlib.pyplot as plt\n",
    "import seaborn as sns\n",
    "from tqdm import trange\n",
    "sns.set()"
   ]
  },
  {
   "cell_type": "code",
   "execution_count": 2,
   "metadata": {},
   "outputs": [],
   "source": [
    "class MyRnn(nn.Module):\n",
    "  def __init__(self, in_d=2, out_d=2, hidden_d=4, num_hidden=1):\n",
    "    super(MyRnn, self).__init__()\n",
    "    self.rnn = nn.RNN(input_size=in_d, hidden_size=hidden_d, num_layers=num_hidden)\n",
    "    self.fc = nn.Linear(hidden_d, out_d)\n",
    "\n",
    "  def forward(self, x, h0):\n",
    "    r, h = self.rnn(x, h0)\n",
    "    y = self.fc(r)  # no activation on the output\n",
    "    return y, h"
   ]
  },
  {
   "cell_type": "code",
   "execution_count": 18,
   "metadata": {},
   "outputs": [],
   "source": [
    "s1 = torch.tensor([[4, 15], [4, 14], [4, 13], [4, 12], [4, 11], [4, 10], [4, 9], [4, 8], [4,7], [4, 6], [4, 5], [4, 4], [4, 3], [4, 2]], dtype=torch.float)[:, None, :] \n",
    "s2 = torch.tensor([[4, 15], [5,15],[6,15],[7,15],[8,15],[9,15],[10,15],[11, 15],[12, 15],[12,14],[12,13],[12,12],[12,11],[12,10],[12,9],[12,8],[12,7],[12,6],[12,5]],dtype=torch.float)[:, None, :]\n",
    "# s1 and s2 have 3 dimension"
   ]
  },
  {
   "cell_type": "code",
   "execution_count": 13,
   "metadata": {},
   "outputs": [
    {
     "name": "stdout",
     "output_type": "stream",
     "text": [
      "torch.Size([33, 1, 2])\n",
      "tensor([[ 7.5152, 10.5758]])\n",
      "tensor([[3.6922, 4.1761]])\n"
     ]
    }
   ],
   "source": [
    "x = torch.cat((s1,s2),dim=0)\n",
    "print(x.shape)\n",
    "mu = x.mean(dim=0)\n",
    "print(mu)\n",
    "sig=x.std(dim=0)\n",
    "print(sig)\n",
    "sequences = [(s1-mu)/sig, (s2-mu)/sig]  # pythonic list to hold sequences of un-even length"
   ]
  },
  {
   "cell_type": "code",
   "execution_count": 20,
   "metadata": {},
   "outputs": [],
   "source": [
    "data = []\n",
    "with open('aim_data/sample1.txt') as f:\n",
    "    reader = csv.reader(f)\n",
    "    next(reader)\n",
    "    for row in reader:\n",
    "        x = float(row[1])\n",
    "        y = float(row[2])\n",
    "        data.append([x,y])\n",
    "\n",
    "tensor = torch.FloatTensor(data)[:,None,:]"
   ]
  },
  {
   "cell_type": "code",
   "execution_count": 22,
   "metadata": {},
   "outputs": [
    {
     "data": {
      "text/plain": [
       "['aim_data/sample71.txt',\n",
       " 'aim_data/sample41.txt',\n",
       " 'aim_data/sample88.txt',\n",
       " 'aim_data/sample30.txt',\n",
       " 'aim_data/sample47.txt',\n",
       " 'aim_data/sample43.txt',\n",
       " 'aim_data/sample22.txt',\n",
       " 'aim_data/sample65.txt',\n",
       " 'aim_data/sample21.txt',\n",
       " 'aim_data/sample6.txt',\n",
       " 'aim_data/sample49.txt',\n",
       " 'aim_data/sample91.txt',\n",
       " 'aim_data/sample44.txt',\n",
       " 'aim_data/sample68.txt',\n",
       " 'aim_data/sample85.txt',\n",
       " 'aim_data/sample38.txt',\n",
       " 'aim_data/sample26.txt',\n",
       " 'aim_data/sample77.txt',\n",
       " 'aim_data/sample60.txt',\n",
       " 'aim_data/sample4.txt',\n",
       " 'aim_data/sample70.txt',\n",
       " 'aim_data/sample32.txt',\n",
       " 'aim_data/sample17.txt',\n",
       " 'aim_data/sample27.txt',\n",
       " 'aim_data/sample15.txt',\n",
       " 'aim_data/sample45.txt',\n",
       " 'aim_data/sample23.txt',\n",
       " 'aim_data/sample90.txt',\n",
       " 'aim_data/sample40.txt',\n",
       " 'aim_data/sample35.txt',\n",
       " 'aim_data/sample3.txt',\n",
       " 'aim_data/sample9.txt',\n",
       " 'aim_data/sample36.txt',\n",
       " 'aim_data/sample55.txt',\n",
       " 'aim_data/sample14.txt',\n",
       " 'aim_data/sample67.txt',\n",
       " 'aim_data/sample72.txt',\n",
       " 'aim_data/sample81.txt',\n",
       " 'aim_data/sample59.txt',\n",
       " 'aim_data/sample80.txt',\n",
       " 'aim_data/sample5.txt',\n",
       " 'aim_data/sample37.txt',\n",
       " 'aim_data/sample58.txt',\n",
       " 'aim_data/sample78.txt',\n",
       " 'aim_data/sample75.txt',\n",
       " 'aim_data/sample18.txt',\n",
       " 'aim_data/sample66.txt',\n",
       " 'aim_data/sample62.txt',\n",
       " 'aim_data/sample19.txt',\n",
       " 'aim_data/sample56.txt',\n",
       " 'aim_data/sample51.txt',\n",
       " 'aim_data/sample53.txt',\n",
       " 'aim_data/sample2.txt',\n",
       " 'aim_data/sample24.txt',\n",
       " 'aim_data/sample74.txt',\n",
       " 'aim_data/sample82.txt',\n",
       " 'aim_data/sample86.txt',\n",
       " 'aim_data/sample31.txt',\n",
       " 'aim_data/sample16.txt',\n",
       " 'aim_data/sample50.txt',\n",
       " 'aim_data/sample79.txt',\n",
       " 'aim_data/sample57.txt',\n",
       " 'aim_data/sample13.txt',\n",
       " 'aim_data/sample42.txt',\n",
       " 'aim_data/sample52.txt',\n",
       " 'aim_data/sample7.txt',\n",
       " 'aim_data/sample63.txt',\n",
       " 'aim_data/sample12.txt',\n",
       " 'aim_data/sample48.txt',\n",
       " 'aim_data/sample33.txt',\n",
       " 'aim_data/sample20.txt',\n",
       " 'aim_data/sample11.txt',\n",
       " 'aim_data/sample46.txt',\n",
       " 'aim_data/sample84.txt',\n",
       " 'aim_data/sample76.txt',\n",
       " 'aim_data/sample10.txt',\n",
       " 'aim_data/sample28.txt',\n",
       " 'aim_data/sample8.txt',\n",
       " 'aim_data/sample25.txt',\n",
       " 'aim_data/sample87.txt',\n",
       " 'aim_data/sample29.txt',\n",
       " 'aim_data/sample54.txt',\n",
       " 'aim_data/sample61.txt',\n",
       " 'aim_data/sample73.txt',\n",
       " 'aim_data/sample83.txt',\n",
       " 'aim_data/sample64.txt',\n",
       " 'aim_data/sample1.txt',\n",
       " 'aim_data/sample39.txt',\n",
       " 'aim_data/sample89.txt',\n",
       " 'aim_data/sample34.txt',\n",
       " 'aim_data/sample69.txt']"
      ]
     },
     "execution_count": 22,
     "metadata": {},
     "output_type": "execute_result"
    }
   ],
   "source": [
    "folder = \"aim_data\"\n",
    "\n",
    "file_paths = glob.glob(folder + '/*')\n",
    "\n",
    "for file_path in file_paths:\n",
    "    filename = os.path.basename(file_path)\n",
    "\n",
    "    data = []\n",
    "    with open(filename) as f:\n",
    "        reader = csv.reader(f)\n",
    "        next(reader)\n",
    "        for row in reader:\n",
    "            x = float(row[1])\n",
    "            y = float(row[2])\n",
    "            data.append([x,y])\n",
    "    \n",
    "    tensor = torch.FloatTensor(data)[:,None,:]\n",
    "    \n",
    "\n"
   ]
  }
 ],
 "metadata": {
  "kernelspec": {
   "display_name": "Python 3",
   "language": "python",
   "name": "python3"
  },
  "language_info": {
   "codemirror_mode": {
    "name": "ipython",
    "version": 3
   },
   "file_extension": ".py",
   "mimetype": "text/x-python",
   "name": "python",
   "nbconvert_exporter": "python",
   "pygments_lexer": "ipython3",
   "version": "3.10.6"
  },
  "orig_nbformat": 4
 },
 "nbformat": 4,
 "nbformat_minor": 2
}
